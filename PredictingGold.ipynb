{
 "metadata": {
  "kernelspec": {
   "display_name": "Python 3",
   "language": "python",
   "name": "python3"
  },
  "language_info": {
   "codemirror_mode": {
    "name": "ipython",
    "version": 3
   },
   "file_extension": ".py",
   "mimetype": "text/x-python",
   "name": "python",
   "nbconvert_exporter": "python",
   "pygments_lexer": "ipython3",
   "version": "3.5.2"
  },
  "name": "",
  "widgets": {
   "state": {
    "793ec4a67faa45878df9207d0e3f0ae4": {
     "views": [
      {
       "cell_index": 24
      }
     ]
    },
    "9495629becfe48558916d445f1782867": {
     "views": [
      {
       "cell_index": 20
      }
     ]
    }
   },
   "version": "1.2.0"
  }
 },
 "nbformat": 3,
 "nbformat_minor": 0,
 "worksheets": [
  {
   "cells": [
    {
     "cell_type": "heading",
     "level": 1,
     "metadata": {},
     "source": [
      "GDP and Olympic medals"
     ]
    },
    {
     "cell_type": "code",
     "collapsed": true,
     "input": [
      "import pandas as pd\n",
      "from matplotlib import pyplot as plt\n",
      "from matplotlib import style\n",
      "import numpy as np\n",
      "from seaborn import apionly as sns\n",
      "from sklearn import linear_model, cross_validation, metrics\n",
      "from ipywidgets import interact\n",
      "from scipy import stats"
     ],
     "language": "python",
     "metadata": {},
     "outputs": []
    },
    {
     "cell_type": "markdown",
     "metadata": {},
     "source": [
      "Let's get our plots inline:"
     ]
    },
    {
     "cell_type": "code",
     "collapsed": true,
     "input": [
      "%matplotlib inline"
     ],
     "language": "python",
     "metadata": {},
     "outputs": []
    },
    {
     "cell_type": "code",
     "collapsed": true,
     "input": [
      "style.use('fivethirtyeight')"
     ],
     "language": "python",
     "metadata": {},
     "outputs": []
    },
    {
     "cell_type": "markdown",
     "metadata": {},
     "source": [
      "## Get the data\n",
      "\n",
      "Using the `wbdata` library, we get data from the wold bank:"
     ]
    },
    {
     "cell_type": "code",
     "collapsed": false,
     "input": [
      "import wbdata\n",
      "country_data = wbdata.get_dataframe({\n",
      "        'NY.GDP.MKTP.CD': 'gdp_market',\n",
      "        'NY.GDP.MKTP.PP.CD': 'gdp_ppp',\n",
      "        'NY.GDP.PCAP.PP.CD': 'gdp_percapita_ppp',\n",
      "        'SP.POP.TOTL': 'population',\n",
      "        })"
     ],
     "language": "python",
     "metadata": {},
     "outputs": []
    },
    {
     "cell_type": "markdown",
     "metadata": {},
     "source": [
      "Using the [medalbot](http://www.medalbot.com) API, we get the number of medals for each country:"
     ]
    },
    {
     "cell_type": "code",
     "collapsed": false,
     "input": [
      "medals = pd.read_json('http://www.medalbot.com/api/v1/medals')"
     ],
     "language": "python",
     "metadata": {},
     "outputs": []
    },
    {
     "cell_type": "markdown",
     "metadata": {},
     "source": [
      "We build a weighted total where Gold is worth 5, Silver 3, and Bronze just 1:"
     ]
    },
    {
     "cell_type": "code",
     "collapsed": true,
     "input": [
      "medals['total_weighted'] = 5*medals.gold_count + 3*medals.silver_count + medals.bronze_count\n",
      "medals.index = medals.country_name"
     ],
     "language": "python",
     "metadata": {},
     "outputs": []
    },
    {
     "cell_type": "markdown",
     "metadata": {},
     "source": [
      "## Data Wrangling\n",
      "\n",
      "Look only at recent economic data:"
     ]
    },
    {
     "cell_type": "code",
     "collapsed": false,
     "input": [
      "recent = {}\n",
      "for ix in country_data.index.levels[0]:\n",
      "    if len(country_data.ix[ix].dropna()) > 0:\n",
      "        r = country_data.ix[ix].dropna()\n",
      "        recent[ix] = r.sort_index().iloc[-1]\n",
      "recent = pd.DataFrame(recent).T"
     ],
     "language": "python",
     "metadata": {},
     "outputs": []
    },
    {
     "cell_type": "markdown",
     "metadata": {},
     "source": [
      "Some of the World Bank country names are different from the medalcount ones, so normalize:"
     ]
    },
    {
     "cell_type": "code",
     "collapsed": true,
     "input": [
      "recent.rename(index={\n",
      "    'Russian Federation': 'Russia',\n",
      "    'United Kingdom': 'Great Britain',\n",
      "    'Korea, Rep.': 'South Korea'\n",
      "}, inplace=True)"
     ],
     "language": "python",
     "metadata": {},
     "outputs": []
    },
    {
     "cell_type": "markdown",
     "metadata": {},
     "source": [
      "Finally, join it all in a single cozy table:"
     ]
    },
    {
     "cell_type": "code",
     "collapsed": false,
     "input": [
      "recent = recent.ix[medals.country_name]\n",
      "data = recent.join(medals)\n",
      "data = data.dropna()"
     ],
     "language": "python",
     "metadata": {},
     "outputs": []
    },
    {
     "cell_type": "markdown",
     "metadata": {},
     "source": [
      "Let's print some basic stats:"
     ]
    },
    {
     "cell_type": "code",
     "collapsed": false,
     "input": [
      "print(pd.Series({'Nr countries': len(data),\n",
      "            'Total nr medals': data.total_count.sum(),\n",
      "            'Total nr gold medals': data.gold_count.sum(),\n",
      "            }))"
     ],
     "language": "python",
     "metadata": {},
     "outputs": []
    },
    {
     "cell_type": "markdown",
     "metadata": {},
     "source": [
      "# Modeling\n",
      "\n",
      "What predicts the number of medals that a country gets?\n"
     ]
    },
    {
     "cell_type": "markdown",
     "metadata": {},
     "source": [
      "We are going to use linear regression, so we define an `lr` object at the top:"
     ]
    },
    {
     "cell_type": "code",
     "collapsed": true,
     "input": [
      "lr = linear_model.LinearRegression()"
     ],
     "language": "python",
     "metadata": {},
     "outputs": []
    },
    {
     "cell_type": "code",
     "collapsed": false,
     "input": [
      "@interact(x=list(country_data.columns)\n",
      "          ,y={'total': 'total_count'\n",
      "                   , 'gold': 'gold_count'\n",
      "                   , 'weighted': 'total_weighted'}\n",
      "          , log_input=True)\n",
      "def simple(x, y, log_input):\n",
      "    fig, ax = plt.subplots()\n",
      "    x = data[x]\n",
      "    if log_input:\n",
      "        x = np.log10(x)\n",
      "    y = data[y]\n",
      "    sns.regplot(x, y, ax=ax)\n",
      "    pred = cross_validation.cross_val_predict(lr, (data[['gdp_market', 'population']]), y, cv=cross_validation.LeaveOneOut(len(y)))\n",
      "    r2 = metrics.r2_score(y, pred)\n",
      "    if r2 < 0:\n",
      "        r2 = 0\n",
      "    r,pval = stats.spearmanr(x,y)\n",
      "    print(\"Spearman correlation: {:.2f} (p-value: {:.2f})\".format(r,pval))\n",
      "    _,pval = stats.spearmanr(pred,y)\n",
      "    print(\"Predictive value [R2]: {:.2f} (p-value: {:.2f})\".format(r2, pval))"
     ],
     "language": "python",
     "metadata": {
      "scrolled": true
     },
     "outputs": []
    },
    {
     "cell_type": "markdown",
     "metadata": {},
     "source": [
      "## Build a more complete model\n",
      "\n",
      "We attempt to predict the number of medals from our simple features: wealth & and population"
     ]
    },
    {
     "cell_type": "code",
     "collapsed": false,
     "input": [
      "USE_COLUMNS = ['gdp_market', 'population']\n",
      "@interact(y={'total': 'total_count'\n",
      "                   , 'gold': 'gold_count'\n",
      "                   , 'weighted': 'total_weighted'}\n",
      "          , log_input=True)\n",
      "def predict(y, log_input):\n",
      "    X = data[USE_COLUMNS]\n",
      "    if log_input:\n",
      "        X = np.log10(X)\n",
      "    y = data[y]\n",
      "    pred = cross_validation.cross_val_predict(lr, (data[['gdp_market', 'population']]), y, cv=cross_validation.LeaveOneOut(len(y)))\n",
      "    r2 = metrics.r2_score(y, pred)\n",
      "    lr.fit(X,y)\n",
      "    fig,ax = plt.subplots()\n",
      "    ax.plot(lr.coef_)\n",
      "    ax.set_xticks(np.arange(len(USE_COLUMNS)))\n",
      "    ax.set_xticklabels(USE_COLUMNS, rotation=90)\n",
      "    ax.set_xlim(-.05, len(USE_COLUMNS)-.95)\n",
      "    # The code below is too clever, but dilate the boundaries by ~5%\n",
      "    ymin,ymax = ax.get_ylim()\n",
      "    ax.set_ylim(ymin*(1.+np.sign(ymin)*.05), ymax*(1.+np.sign(ymax)*.05))\n",
      "    ax.set_xlabel('Feature')\n",
      "    ax.set_ylabel('Weight')\n",
      "    fig.tight_layout()\n",
      "    print(\"Predictive power is {:.2}\".format(r2))"
     ],
     "language": "python",
     "metadata": {},
     "outputs": []
    },
    {
     "cell_type": "code",
     "collapsed": true,
     "input": [],
     "language": "python",
     "metadata": {},
     "outputs": []
    }
   ],
   "metadata": {}
  }
 ]
}