{
 "metadata": {
  "kernelspec": {
   "display_name": "Python 3",
   "language": "python",
   "name": "python3"
  },
  "language_info": {
   "codemirror_mode": {
    "name": "ipython",
    "version": 3
   },
   "file_extension": ".py",
   "mimetype": "text/x-python",
   "name": "python",
   "nbconvert_exporter": "python",
   "pygments_lexer": "ipython3",
   "version": "3.5.2"
  },
  "name": "",
  "widgets": {
   "state": {
    "4fa71d8771c74cca9b723e0c4744cede": {
     "views": [
      {
       "cell_index": 23
      }
     ]
    },
    "57d7323f2cc746369304400478338579": {
     "views": [
      {
       "cell_index": 25
      }
     ]
    },
    "6163cadb8fd446008fa44f32da907465": {
     "views": [
      {
       "cell_index": 27
      }
     ]
    }
   },
   "version": "1.2.0"
  }
 },
 "nbformat": 3,
 "nbformat_minor": 0,
 "worksheets": [
  {
   "cells": [
    {
     "cell_type": "markdown",
     "metadata": {},
     "source": [
      "# GDP, Population, and Olympic medals\n",
      "\n",
      "This is a little investigation into the relationship between GDP, population and # of Olympic medals.\n",
      "\n",
      "### Basic Setup\n",
      "\n",
      "Import a bunch of standard packages:"
     ]
    },
    {
     "cell_type": "code",
     "collapsed": true,
     "input": [
      "import pandas as pd\n",
      "from matplotlib import pyplot as plt\n",
      "from matplotlib import style\n",
      "import numpy as np\n",
      "from seaborn import apionly as sns\n",
      "from sklearn import linear_model, cross_validation, metrics\n",
      "from ipywidgets import interact\n",
      "from scipy import stats\n",
      "from ipywidgets.widgets import ToggleButtons, SelectMultiple"
     ],
     "language": "python",
     "metadata": {},
     "outputs": []
    },
    {
     "cell_type": "markdown",
     "metadata": {},
     "source": [
      "Let's get our plots inline:"
     ]
    },
    {
     "cell_type": "code",
     "collapsed": true,
     "input": [
      "%matplotlib inline"
     ],
     "language": "python",
     "metadata": {},
     "outputs": []
    },
    {
     "cell_type": "code",
     "collapsed": true,
     "input": [
      "style.use('fivethirtyeight')"
     ],
     "language": "python",
     "metadata": {},
     "outputs": []
    },
    {
     "cell_type": "markdown",
     "metadata": {},
     "source": [
      "## Get the data\n",
      "\n",
      "Using the `wbdata` library, we get data from the wold bank (`wbdata` is `pip`-installable):"
     ]
    },
    {
     "cell_type": "code",
     "collapsed": false,
     "input": [
      "import wbdata\n",
      "country_data = wbdata.get_dataframe({\n",
      "        'NY.GDP.MKTP.CD': 'gdp_market',\n",
      "        'NY.GDP.MKTP.PP.CD': 'gdp_ppp',\n",
      "        'NY.GDP.PCAP.PP.CD': 'gdp_percapita_ppp',\n",
      "        'SP.POP.TOTL': 'population',\n",
      "        })"
     ],
     "language": "python",
     "metadata": {},
     "outputs": []
    },
    {
     "cell_type": "markdown",
     "metadata": {},
     "source": [
      "Using the [medalbot](http://www.medalbot.com) API, we get the number of medals for each country:"
     ]
    },
    {
     "cell_type": "code",
     "collapsed": false,
     "input": [
      "medals = pd.read_json('http://www.medalbot.com/api/v1/medals')"
     ],
     "language": "python",
     "metadata": {},
     "outputs": []
    },
    {
     "cell_type": "markdown",
     "metadata": {},
     "source": [
      "We build a weighted total where Gold is worth 5, Silver 3, and Bronze just 1:"
     ]
    },
    {
     "cell_type": "code",
     "collapsed": true,
     "input": [
      "medals['total_weighted'] = 5*medals.gold_count + 3*medals.silver_count + medals.bronze_count\n",
      "medals.index = medals.country_name"
     ],
     "language": "python",
     "metadata": {},
     "outputs": []
    },
    {
     "cell_type": "markdown",
     "metadata": {},
     "source": [
      "## Data Wrangling\n",
      "\n",
      "Look only at recent economic data:"
     ]
    },
    {
     "cell_type": "code",
     "collapsed": false,
     "input": [
      "recent = {}\n",
      "for ix in country_data.index.levels[0]:\n",
      "    if len(country_data.ix[ix].dropna()) > 0:\n",
      "        r = country_data.ix[ix].dropna()\n",
      "        recent[ix] = r.sort_index().iloc[-1]\n",
      "recent = pd.DataFrame(recent).T"
     ],
     "language": "python",
     "metadata": {},
     "outputs": []
    },
    {
     "cell_type": "markdown",
     "metadata": {},
     "source": [
      "Some of the World Bank country names are different from the medalcount ones, so normalize:"
     ]
    },
    {
     "cell_type": "code",
     "collapsed": true,
     "input": [
      "recent.rename(index={\n",
      "    'Russian Federation': 'Russia',\n",
      "    'United Kingdom': 'Great Britain',\n",
      "    'Korea, Rep.': 'South Korea'\n",
      "}, inplace=True)"
     ],
     "language": "python",
     "metadata": {},
     "outputs": []
    },
    {
     "cell_type": "markdown",
     "metadata": {},
     "source": [
      "Finally, join it all in a single cozy table:"
     ]
    },
    {
     "cell_type": "code",
     "collapsed": false,
     "input": [
      "recent = recent.ix[medals.country_name]\n",
      "data = recent.join(medals)\n",
      "data = data.dropna()"
     ],
     "language": "python",
     "metadata": {},
     "outputs": []
    },
    {
     "cell_type": "markdown",
     "metadata": {},
     "source": [
      "Let's print some basic stats:"
     ]
    },
    {
     "cell_type": "code",
     "collapsed": false,
     "input": [
      "print(pd.Series({'Nr countries': len(data),\n",
      "            'Total nr medals': data.total_count.sum(),\n",
      "            'Total nr gold medals': data.gold_count.sum(),\n",
      "            }))"
     ],
     "language": "python",
     "metadata": {},
     "outputs": []
    },
    {
     "cell_type": "markdown",
     "metadata": {},
     "source": [
      "# Modeling\n",
      "\n",
      "What predicts the number of medals that a country gets?\n"
     ]
    },
    {
     "cell_type": "markdown",
     "metadata": {},
     "source": [
      "We are going to use linear regression, so we define an `lr` object at the top:"
     ]
    },
    {
     "cell_type": "code",
     "collapsed": true,
     "input": [
      "lr = linear_model.LinearRegression()"
     ],
     "language": "python",
     "metadata": {},
     "outputs": []
    },
    {
     "cell_type": "markdown",
     "metadata": {},
     "source": [
      "Now we start modeling, first with a simple univariate model. You can pick your input (`x`) and output (`y`):"
     ]
    },
    {
     "cell_type": "code",
     "collapsed": false,
     "input": [
      "@interact(x=ToggleButtons(options=list(country_data.columns))\n",
      "          ,y=ToggleButtons(options={'total': 'total_count'\n",
      "                   , 'gold': 'gold_count'\n",
      "                   , 'weighted': 'total_weighted'})\n",
      "          , log_input=True)\n",
      "def simple(x, y, log_input):\n",
      "    fig, ax = plt.subplots()\n",
      "    x = data[x]\n",
      "    if log_input:\n",
      "        x = np.log10(x)\n",
      "    y = data[y]\n",
      "    sns.regplot(x, y, ax=ax)\n",
      "    pred = cross_validation.cross_val_predict(lr, (data[['gdp_market', 'population']]), y, cv=cross_validation.LeaveOneOut(len(y)))\n",
      "    r2 = metrics.r2_score(y, pred)\n",
      "    if r2 < 0:\n",
      "        r2 = 0\n",
      "    r,pval = stats.spearmanr(x,y)\n",
      "    print(\"Spearman correlation: {:.2f} (p-value: {:.2f})\".format(r,pval))\n",
      "    _,pval = stats.spearmanr(pred,y)\n",
      "    print(\"Predictive value [R2]: {:.2f} (p-value: {:.2f})\".format(r2, pval))"
     ],
     "language": "python",
     "metadata": {
      "scrolled": true
     },
     "outputs": []
    },
    {
     "cell_type": "markdown",
     "metadata": {},
     "source": [
      "## Build a more complete model\n",
      "\n",
      "We attempt to predict the number of medals from our simple features: wealth & and population"
     ]
    },
    {
     "cell_type": "code",
     "collapsed": false,
     "input": [
      "USE_COLUMNS = ['gdp_market', 'population']\n",
      "@interact(use_columns=SelectMultiple(options=list(country_data.columns)),\n",
      "          y=ToggleButtons(\n",
      "                options={'total': 'total_count'\n",
      "                   , 'gold': 'gold_count'\n",
      "                   , 'weighted': 'total_weighted'})\n",
      "          , log_input=True)\n",
      "def predict(use_columns, y, log_input):\n",
      "    if not len(use_columns):\n",
      "        print(\"Defaulting to GDP & population\")\n",
      "        use_columns = USE_COLUMNS\n",
      "\n",
      "    X = data[list(use_columns)]\n",
      "    if log_input:\n",
      "        X = np.log10(X)\n",
      "    y = data[y]\n",
      "    lr.fit(X,y)\n",
      "    fig,axes = plt.subplots(1,2)\n",
      "    axes[0].plot(lr.coef_)\n",
      "    axes[0].set_xticks(np.arange(len(use_columns)))\n",
      "    axes[0].set_xticklabels(use_columns, rotation=90)\n",
      "    axes[0].set_xlim(-.05, len(use_columns)-.95)\n",
      "    # The code below is too clever, but dilates the boundaries by ~5%\n",
      "    ymin,ymax = axes[0].get_ylim()\n",
      "    axes[0].set_ylim(ymin*(1.+np.sign(ymin)*.05), ymax*(1.+np.sign(ymax)*.05))\n",
      "    axes[0].set_xlabel('Feature')\n",
      "    axes[0].set_ylabel('Weight')\n",
      "\n",
      "    pred = cross_validation.cross_val_predict(lr, X, y, cv=cross_validation.LeaveOneOut(len(y)))\n",
      "    r2 = metrics.r2_score(y, pred)\n",
      "    axes[1].scatter(pred, y)\n",
      "    axes[1].set_xlabel(\"Predicted value\")\n",
      "    axes[1].set_xlabel(\"Real value\")\n",
      "    fig.tight_layout()\n",
      "    print(\"Predictive power is {:.2}\".format(r2))"
     ],
     "language": "python",
     "metadata": {},
     "outputs": []
    },
    {
     "cell_type": "markdown",
     "metadata": {
      "collapsed": true
     },
     "source": [
      "## Which countries are over/under performing?\n",
      "\n",
      "Now that we have a model, we can see which nations are *over* or *under* performing.\n",
      "\n",
      "I mean, we all expect the US to have a lot of medals (they're either the richest or the second richest nation in the world). We also expect China to have a lot (they have the most people). But which countries are performing above or under their predicted totals?"
     ]
    },
    {
     "cell_type": "code",
     "collapsed": false,
     "input": [
      "USE_COLUMNS = ['gdp_market', 'population']\n",
      "SHOW_N = 5\n",
      "@interact(use_columns=SelectMultiple(options=list(country_data.columns)),\n",
      "          y=ToggleButtons(\n",
      "                options={'total': 'total_count'\n",
      "                   , 'gold': 'gold_count'\n",
      "                   , 'weighted': 'total_weighted'})\n",
      "          , log_input=True)\n",
      "def predict(use_columns, y, log_input):\n",
      "    if not len(use_columns):\n",
      "        print(\"Defaulting to GDP & population\")\n",
      "        use_columns = USE_COLUMNS\n",
      "\n",
      "    X = data[list(use_columns)]\n",
      "    if log_input:\n",
      "        X = np.log10(X)\n",
      "    y = data[y]\n",
      "    lr.fit(X,y)\n",
      "    pred = cross_validation.cross_val_predict(lr, X, y, cv=cross_validation.LeaveOneOut(len(y)))\n",
      "\n",
      "    pred = pd.Series(pred, index=y.index)\n",
      "    delta = y - pred\n",
      "\n",
      "    delta.sort_values(inplace=1)\n",
      "    r2 = metrics.r2_score(y, pred)\n",
      "    print(\"Predictive power is {:.2}\\n\\n\".format(r2))\n",
      "n    print(\"Over performing countries\")\n",
      "    print(\"=========================\")\n",
      "\n",
      "    u = delta[-SHOW_N:].index[::-1]\n",
      "    print(pd.DataFrame(\n",
      "         {'predicted': pred.ix[u]\n",
      "         ,'got': y.ix[u]\n",
      "         ,'delta': delta.ix[u]}))\n",
      "\n",
      "    print(\"\\n\")\n",
      "\n",
      "    print(\"Under performing countries\")\n",
      "    print(\"==========================\")\n",
      "\n",
      "    u = delta[:SHOW_N].index\n",
      "    print(pd.DataFrame(\n",
      "         {'predicted': pred.ix[u]\n",
      "         ,'got': y.ix[u]\n",
      "         ,'delta': delta.ix[u]}))\n"
     ],
     "language": "python",
     "metadata": {},
     "outputs": []
    },
    {
     "cell_type": "code",
     "collapsed": true,
     "input": [],
     "language": "python",
     "metadata": {},
     "outputs": []
    }
   ],
   "metadata": {}
  }
 ]
}